{
 "cells": [
  {
   "cell_type": "code",
   "execution_count": 1,
   "id": "c1c1b597-87c0-4a1f-8f17-db8eaf4b804a",
   "metadata": {},
   "outputs": [
    {
     "name": "stdout",
     "output_type": "stream",
     "text": [
      "Requirement already satisfied: ta in /home/ubuntu/anaconda3/lib/python3.11/site-packages (0.11.0)\n",
      "Requirement already satisfied: numpy in /home/ubuntu/anaconda3/lib/python3.11/site-packages (from ta) (1.26.4)\n",
      "Requirement already satisfied: pandas in /home/ubuntu/anaconda3/lib/python3.11/site-packages (from ta) (2.2.3)\n",
      "Requirement already satisfied: python-dateutil>=2.8.2 in /home/ubuntu/anaconda3/lib/python3.11/site-packages (from pandas->ta) (2.8.2)\n",
      "Requirement already satisfied: pytz>=2020.1 in /home/ubuntu/anaconda3/lib/python3.11/site-packages (from pandas->ta) (2025.2)\n",
      "Requirement already satisfied: tzdata>=2022.7 in /home/ubuntu/anaconda3/lib/python3.11/site-packages (from pandas->ta) (2025.2)\n",
      "Requirement already satisfied: six>=1.5 in /home/ubuntu/anaconda3/lib/python3.11/site-packages (from python-dateutil>=2.8.2->pandas->ta) (1.17.0)\n"
     ]
    }
   ],
   "source": [
    "!pip install ta"
   ]
  },
  {
   "cell_type": "code",
   "execution_count": 3,
   "id": "a5c0d8b6-97f6-41e9-aa2e-d23765604802",
   "metadata": {},
   "outputs": [
    {
     "name": "stdout",
     "output_type": "stream",
     "text": [
      "0.11.0\n"
     ]
    }
   ],
   "source": [
    "import importlib.metadata\n",
    "print(importlib.metadata.version(\"ta\"))"
   ]
  },
  {
   "cell_type": "code",
   "execution_count": null,
   "id": "4df8d26d-acc3-4cba-af05-0d19e38c7add",
   "metadata": {},
   "outputs": [],
   "source": []
  }
 ],
 "metadata": {
  "kernelspec": {
   "display_name": "Python 3 (ipykernel)",
   "language": "python",
   "name": "python3"
  },
  "language_info": {
   "codemirror_mode": {
    "name": "ipython",
    "version": 3
   },
   "file_extension": ".py",
   "mimetype": "text/x-python",
   "name": "python",
   "nbconvert_exporter": "python",
   "pygments_lexer": "ipython3",
   "version": "3.11.7"
  }
 },
 "nbformat": 4,
 "nbformat_minor": 5
}
